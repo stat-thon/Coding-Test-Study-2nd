{
 "cells": [
  {
   "cell_type": "markdown",
   "id": "3c1bb8a1",
   "metadata": {},
   "source": [
    "# 주어진 데이터를 활용하여 Classification\n",
    "\n",
    "## 1. 기본적인 세팅"
   ]
  },
  {
   "cell_type": "markdown",
   "id": "d1e3122a",
   "metadata": {},
   "source": [
    "### Module Setting"
   ]
  },
  {
   "cell_type": "code",
   "execution_count": 1,
   "id": "e55a6c79",
   "metadata": {},
   "outputs": [],
   "source": [
    "# set module\n",
    "import pandas as pd\n",
    "import numpy as np\n",
    "import tqdm\n",
    "\n",
    "# preprocessing\n",
    "from sklearn.preprocessing import LabelEncoder, StandardScaler\n",
    "\n",
    "# train vaild split\n",
    "from sklearn.model_selection import train_test_split\n",
    "\n",
    "# modeling \n",
    "from sklearn.ensemble import RandomForestClassifier\n",
    "from lightgbm import LGBMClassifier\n",
    "from xgboost import XGBClassifier\n",
    "\n",
    "# confusion matrix & score\n",
    "from sklearn.metrics import confusion_matrix\n",
    "from sklearn.metrics import classification_report\n",
    "from sklearn.metrics import roc_auc_score\n",
    "\n",
    "# graph\n",
    "from matplotlib import pyplot as plt\n",
    "import seaborn as sns\n",
    "\n",
    "# oversampling\n",
    "from imblearn.over_sampling import SMOTE\n",
    "\n",
    "# imputing\n",
    "## simple imputation\n",
    "from sklearn.impute import SimpleImputer\n",
    "\n",
    "## MICE\n",
    "from sklearn.experimental import enable_iterative_imputer\n",
    "from sklearn.impute import IterativeImputer"
   ]
  },
  {
   "cell_type": "code",
   "execution_count": 2,
   "id": "57fa30ca",
   "metadata": {},
   "outputs": [],
   "source": [
    "# load data\n",
    "data = pd.read_csv('../data/loan_train.csv')\n",
    "test = pd.read_csv('../data/loan_test.csv')"
   ]
  },
  {
   "cell_type": "markdown",
   "id": "7b510ab4",
   "metadata": {},
   "source": [
    "### 분류 전 데이터 속성 확인"
   ]
  },
  {
   "cell_type": "markdown",
   "id": "c0e71fcf",
   "metadata": {},
   "source": [
    "- Gender : 성별(남/여)\n",
    "- Married : 결혼 여부(Y/N)\n",
    "- Dependents : 피부양자 수(0/1/2/3+)\n",
    "- Education : 교육정도 (졸업/미졸업)\n",
    "- Self_Employed : 자영업자 (Y/N)\n",
    "- Applicant_Income : 신청자 소득\n",
    "- Coapplicant_Income : 공동신청자 소득\n",
    "- Loan_Amount : 대출 금액\n",
    "- Term : 대출 기간 (1년을 360일로 계산)\n",
    "- Credit_History : 신용 기록 (가이드라인을 충족하는지)\n",
    "- Area : 지역 (도시/반도시/농촌)\n",
    "- Status : (대상)대출승인(Y/N)\n",
    "\n",
    "- 이 말은 즉 대출 신청자의 대출 승인이 허가가 될지 안될지 예측하는 모델을 만들라는 것"
   ]
  },
  {
   "cell_type": "code",
   "execution_count": 3,
   "id": "c136dede",
   "metadata": {},
   "outputs": [
    {
     "name": "stdout",
     "output_type": "stream",
     "text": [
      "<class 'pandas.core.frame.DataFrame'>\n",
      "RangeIndex: 614 entries, 0 to 613\n",
      "Data columns (total 12 columns):\n",
      " #   Column              Non-Null Count  Dtype  \n",
      "---  ------              --------------  -----  \n",
      " 0   Gender              601 non-null    object \n",
      " 1   Married             611 non-null    object \n",
      " 2   Dependents          599 non-null    object \n",
      " 3   Education           614 non-null    object \n",
      " 4   Self_Employed       582 non-null    object \n",
      " 5   Applicant_Income    614 non-null    int64  \n",
      " 6   Coapplicant_Income  614 non-null    float64\n",
      " 7   Loan_Amount         614 non-null    int64  \n",
      " 8   Term                600 non-null    float64\n",
      " 9   Credit_History      564 non-null    float64\n",
      " 10  Area                614 non-null    object \n",
      " 11  Status              614 non-null    object \n",
      "dtypes: float64(3), int64(2), object(7)\n",
      "memory usage: 57.7+ KB\n"
     ]
    }
   ],
   "source": [
    "# 데이터 형식 확인\n",
    "data.info()"
   ]
  },
  {
   "cell_type": "markdown",
   "id": "21f8530f",
   "metadata": {},
   "source": [
    "- A credit history of 1 may mean that there is a record of the borrower's repayment of debts while 0 means no record.\n",
    "- 이로인해 Credit_History는 범주형임을 확인하였다."
   ]
  },
  {
   "cell_type": "code",
   "execution_count": 4,
   "id": "8bc78788",
   "metadata": {
    "scrolled": true
   },
   "outputs": [
    {
     "data": {
      "text/plain": [
       "Gender                13\n",
       "Married                3\n",
       "Dependents            15\n",
       "Education              0\n",
       "Self_Employed         32\n",
       "Applicant_Income       0\n",
       "Coapplicant_Income     0\n",
       "Loan_Amount            0\n",
       "Term                  14\n",
       "Credit_History        50\n",
       "Area                   0\n",
       "Status                 0\n",
       "dtype: int64"
      ]
     },
     "execution_count": 4,
     "metadata": {},
     "output_type": "execute_result"
    }
   ],
   "source": [
    "# 결측치 확인\n",
    "data.isna().sum()"
   ]
  },
  {
   "cell_type": "markdown",
   "id": "2faaa557",
   "metadata": {},
   "source": [
    "- 적지않게 결측치를 보유하고 있는 모습\n",
    "- 결측치에 대한 대치도 필요해보임"
   ]
  },
  {
   "cell_type": "markdown",
   "id": "4be2e5c9",
   "metadata": {},
   "source": [
    "### ===================================================================\n",
    "- 데이터 확인 중 변경해야 할 요소가 존재할 경우 확인 및 변경"
   ]
  },
  {
   "cell_type": "code",
   "execution_count": 5,
   "id": "8bb8eabf",
   "metadata": {},
   "outputs": [
    {
     "data": {
      "text/plain": [
       "array([ 1.,  0., nan])"
      ]
     },
     "execution_count": 5,
     "metadata": {},
     "output_type": "execute_result"
    }
   ],
   "source": [
    "# 연속형 데이터 중 의심되는 데이터 확인\n",
    "data['Credit_History'].unique()"
   ]
  },
  {
   "cell_type": "code",
   "execution_count": 6,
   "id": "9dda26e6",
   "metadata": {},
   "outputs": [],
   "source": [
    "# 데이터 타입 변경\n",
    "data['Credit_History'] = data['Credit_History'].astype('object')\n",
    "test['Credit_History'] = test['Credit_History'].astype('object')"
   ]
  },
  {
   "cell_type": "markdown",
   "id": "bec21f8e",
   "metadata": {},
   "source": [
    "### ==================================================================="
   ]
  },
  {
   "cell_type": "markdown",
   "id": "b4812430",
   "metadata": {},
   "source": [
    "## 2. 데이터 EDA및 전처리\n",
    "\n",
    "### 데이터 연속형, 범주형 분류하기"
   ]
  },
  {
   "cell_type": "code",
   "execution_count": 7,
   "id": "f23b9c03",
   "metadata": {},
   "outputs": [],
   "source": [
    "# 변수의 속성에 따라 분리하기\n",
    "encode_cate = pd.DataFrame() # 범주변수 저장\n",
    "encode_num = pd.DataFrame() # 연속 변수 저장\n",
    "data_y = data['Status']\n",
    "for attribute, col in zip(data.dtypes, data.columns): # 변수 타입과 열 이름\n",
    "    if attribute == 'object' and col != 'Status': # Y변수는 별도로 시킬것이므로 제외\n",
    "        encode_cate[col] = data[col] # 범주형 변수\n",
    "    elif col != 'Status':\n",
    "        encode_num[col] = data[col] # 연속 변수"
   ]
  },
  {
   "cell_type": "markdown",
   "id": "20056e3e",
   "metadata": {},
   "source": [
    "### 데이터 처리 전 EDA\n",
    "- 간단한 데이터 확인을 통해 어떻게 처리해야할지 생각하자"
   ]
  },
  {
   "cell_type": "code",
   "execution_count": 8,
   "id": "7e564752",
   "metadata": {},
   "outputs": [
    {
     "data": {
      "text/html": [
       "<div>\n",
       "<style scoped>\n",
       "    .dataframe tbody tr th:only-of-type {\n",
       "        vertical-align: middle;\n",
       "    }\n",
       "\n",
       "    .dataframe tbody tr th {\n",
       "        vertical-align: top;\n",
       "    }\n",
       "\n",
       "    .dataframe thead th {\n",
       "        text-align: right;\n",
       "    }\n",
       "</style>\n",
       "<table border=\"1\" class=\"dataframe\">\n",
       "  <thead>\n",
       "    <tr style=\"text-align: right;\">\n",
       "      <th></th>\n",
       "      <th>Applicant_Income</th>\n",
       "      <th>Coapplicant_Income</th>\n",
       "      <th>Loan_Amount</th>\n",
       "      <th>Term</th>\n",
       "    </tr>\n",
       "  </thead>\n",
       "  <tbody>\n",
       "    <tr>\n",
       "      <th>count</th>\n",
       "      <td>6.140000e+02</td>\n",
       "      <td>6.140000e+02</td>\n",
       "      <td>6.140000e+02</td>\n",
       "      <td>600.00000</td>\n",
       "    </tr>\n",
       "    <tr>\n",
       "      <th>mean</th>\n",
       "      <td>5.403459e+05</td>\n",
       "      <td>1.621246e+05</td>\n",
       "      <td>1.414104e+07</td>\n",
       "      <td>342.00000</td>\n",
       "    </tr>\n",
       "    <tr>\n",
       "      <th>std</th>\n",
       "      <td>6.109042e+05</td>\n",
       "      <td>2.926248e+05</td>\n",
       "      <td>8.815682e+06</td>\n",
       "      <td>65.12041</td>\n",
       "    </tr>\n",
       "    <tr>\n",
       "      <th>min</th>\n",
       "      <td>1.500000e+04</td>\n",
       "      <td>0.000000e+00</td>\n",
       "      <td>0.000000e+00</td>\n",
       "      <td>12.00000</td>\n",
       "    </tr>\n",
       "    <tr>\n",
       "      <th>25%</th>\n",
       "      <td>2.877500e+05</td>\n",
       "      <td>0.000000e+00</td>\n",
       "      <td>9.800000e+06</td>\n",
       "      <td>360.00000</td>\n",
       "    </tr>\n",
       "    <tr>\n",
       "      <th>50%</th>\n",
       "      <td>3.812500e+05</td>\n",
       "      <td>1.188500e+05</td>\n",
       "      <td>1.250000e+07</td>\n",
       "      <td>360.00000</td>\n",
       "    </tr>\n",
       "    <tr>\n",
       "      <th>75%</th>\n",
       "      <td>5.795000e+05</td>\n",
       "      <td>2.297250e+05</td>\n",
       "      <td>1.647500e+07</td>\n",
       "      <td>360.00000</td>\n",
       "    </tr>\n",
       "    <tr>\n",
       "      <th>max</th>\n",
       "      <td>8.100000e+06</td>\n",
       "      <td>4.166700e+06</td>\n",
       "      <td>7.000000e+07</td>\n",
       "      <td>480.00000</td>\n",
       "    </tr>\n",
       "  </tbody>\n",
       "</table>\n",
       "</div>"
      ],
      "text/plain": [
       "       Applicant_Income  Coapplicant_Income   Loan_Amount       Term\n",
       "count      6.140000e+02        6.140000e+02  6.140000e+02  600.00000\n",
       "mean       5.403459e+05        1.621246e+05  1.414104e+07  342.00000\n",
       "std        6.109042e+05        2.926248e+05  8.815682e+06   65.12041\n",
       "min        1.500000e+04        0.000000e+00  0.000000e+00   12.00000\n",
       "25%        2.877500e+05        0.000000e+00  9.800000e+06  360.00000\n",
       "50%        3.812500e+05        1.188500e+05  1.250000e+07  360.00000\n",
       "75%        5.795000e+05        2.297250e+05  1.647500e+07  360.00000\n",
       "max        8.100000e+06        4.166700e+06  7.000000e+07  480.00000"
      ]
     },
     "execution_count": 8,
     "metadata": {},
     "output_type": "execute_result"
    }
   ],
   "source": [
    "encode_num.describe()"
   ]
  },
  {
   "cell_type": "markdown",
   "id": "35b16f36",
   "metadata": {},
   "source": [
    "- boxplot\n",
    "- 한번에 그리기엔 단위적 문제가 존재해 비슷한 단위끼리 묶어서 시각화"
   ]
  },
  {
   "cell_type": "code",
   "execution_count": 9,
   "id": "c7292dd3",
   "metadata": {},
   "outputs": [
    {
     "data": {
      "text/plain": [
       "<AxesSubplot:>"
      ]
     },
     "execution_count": 9,
     "metadata": {},
     "output_type": "execute_result"
    },
    {
     "data": {
      "image/png": "[encoded data removed]",
      "text/plain": [
       "<Figure size 640x480 with 1 Axes>"
      ]
     },
     "metadata": {},
     "output_type": "display_data"
    }
   ],
   "source": [
    "encode_num[['Loan_Amount']].boxplot()"
   ]
  },
  {
   "cell_type": "code",
   "execution_count": 10,
   "id": "93905b43",
   "metadata": {},
   "outputs": [
    {
     "data": {
      "text/plain": [
       "<AxesSubplot:>"
      ]
     },
     "execution_count": 10,
     "metadata": {},
     "output_type": "execute_result"
    },
    {
     "data": {
      "image/png": "[encoded data removed]",
      "text/plain": [
       "<Figure size 640x480 with 1 Axes>"
      ]
     },
     "metadata": {},
     "output_type": "display_data"
    }
   ],
   "source": [
    "encode_num[[\"Applicant_Income\",\"Coapplicant_Income\"]].boxplot()"
   ]
  },
  {
   "cell_type": "code",
   "execution_count": 11,
   "id": "8d45184a",
   "metadata": {
    "scrolled": false
   },
   "outputs": [
    {
     "data": {
      "text/plain": [
       "<AxesSubplot:>"
      ]
     },
     "execution_count": 11,
     "metadata": {},
     "output_type": "execute_result"
    },
    {
     "data": {
      "image/png": "[encoded data removed]",
      "text/plain": [
       "<Figure size 640x480 with 1 Axes>"
      ]
     },
     "metadata": {},
     "output_type": "display_data"
    }
   ],
   "source": [
    "encode_num[['Term']].boxplot()"
   ]
  },
  {
   "cell_type": "markdown",
   "id": "0dc2212e",
   "metadata": {},
   "source": [
    "- log로 치환하기엔 0이 있어서 -inf 나올 가능성이 매우 커보임\n",
    "- 그냥 두기엔 단위가 너무 크고 이상치로 분류되는 값들이 많음\n",
    "- Term ..? -> 주기란 항목이 존재해서 왠지 주기별로 나누어 줘야할거같은 기분\n",
    "- 한번 상관관계 파악해보자"
   ]
  },
  {
   "cell_type": "code",
   "execution_count": 12,
   "id": "e65bf868",
   "metadata": {},
   "outputs": [
    {
     "data": {
      "text/plain": [
       "<AxesSubplot:>"
      ]
     },
     "execution_count": 12,
     "metadata": {},
     "output_type": "execute_result"
    },
    {
     "data": {
      "image/png": "[encoded data removed]",
      "text/plain": [
       "<Figure size 640x480 with 2 Axes>"
      ]
     },
     "metadata": {},
     "output_type": "display_data"
    }
   ],
   "source": [
    "# seaborn으로 그린 히트맵\n",
    "sns.heatmap(encode_num.corr(), annot=True)"
   ]
  },
  {
   "cell_type": "code",
   "execution_count": 13,
   "id": "b2786f2c",
   "metadata": {
    "scrolled": true
   },
   "outputs": [
    {
     "data": {
      "text/html": [
       "<style type=\"text/css\">\n",
       "#T_e5518_row0_col0, #T_e5518_row1_col1, #T_e5518_row2_col2, #T_e5518_row3_col3 {\n",
       "  background-color: #ffff66;\n",
       "  color: #000000;\n",
       "}\n",
       "#T_e5518_row0_col1, #T_e5518_row1_col0, #T_e5518_row1_col3, #T_e5518_row3_col2 {\n",
       "  background-color: #008066;\n",
       "  color: #f1f1f1;\n",
       "}\n",
       "#T_e5518_row0_col2 {\n",
       "  background-color: #85c266;\n",
       "  color: #000000;\n",
       "}\n",
       "#T_e5518_row0_col3 {\n",
       "  background-color: #038166;\n",
       "  color: #f1f1f1;\n",
       "}\n",
       "#T_e5518_row1_col2 {\n",
       "  background-color: #279366;\n",
       "  color: #f1f1f1;\n",
       "}\n",
       "#T_e5518_row2_col0 {\n",
       "  background-color: #96cb66;\n",
       "  color: #000000;\n",
       "}\n",
       "#T_e5518_row2_col1 {\n",
       "  background-color: #46a266;\n",
       "  color: #f1f1f1;\n",
       "}\n",
       "#T_e5518_row2_col3 {\n",
       "  background-color: #188c66;\n",
       "  color: #f1f1f1;\n",
       "}\n",
       "#T_e5518_row3_col0 {\n",
       "  background-color: #108866;\n",
       "  color: #f1f1f1;\n",
       "}\n",
       "#T_e5518_row3_col1 {\n",
       "  background-color: #0d8666;\n",
       "  color: #f1f1f1;\n",
       "}\n",
       "</style>\n",
       "<table id=\"T_e5518_\">\n",
       "  <thead>\n",
       "    <tr>\n",
       "      <th class=\"blank level0\" >&nbsp;</th>\n",
       "      <th class=\"col_heading level0 col0\" >Applicant_Income</th>\n",
       "      <th class=\"col_heading level0 col1\" >Coapplicant_Income</th>\n",
       "      <th class=\"col_heading level0 col2\" >Loan_Amount</th>\n",
       "      <th class=\"col_heading level0 col3\" >Term</th>\n",
       "    </tr>\n",
       "  </thead>\n",
       "  <tbody>\n",
       "    <tr>\n",
       "      <th id=\"T_e5518_level0_row0\" class=\"row_heading level0 row0\" >Applicant_Income</th>\n",
       "      <td id=\"T_e5518_row0_col0\" class=\"data row0 col0\" >1.000000</td>\n",
       "      <td id=\"T_e5518_row0_col1\" class=\"data row0 col1\" >-0.116605</td>\n",
       "      <td id=\"T_e5518_row0_col2\" class=\"data row0 col2\" >0.539615</td>\n",
       "      <td id=\"T_e5518_row0_col3\" class=\"data row0 col3\" >-0.045306</td>\n",
       "    </tr>\n",
       "    <tr>\n",
       "      <th id=\"T_e5518_level0_row1\" class=\"row_heading level0 row1\" >Coapplicant_Income</th>\n",
       "      <td id=\"T_e5518_row1_col0\" class=\"data row1 col0\" >-0.116605</td>\n",
       "      <td id=\"T_e5518_row1_col1\" class=\"data row1 col1\" >1.000000</td>\n",
       "      <td id=\"T_e5518_row1_col2\" class=\"data row1 col2\" >0.189237</td>\n",
       "      <td id=\"T_e5518_row1_col3\" class=\"data row1 col3\" >-0.059878</td>\n",
       "    </tr>\n",
       "    <tr>\n",
       "      <th id=\"T_e5518_level0_row2\" class=\"row_heading level0 row2\" >Loan_Amount</th>\n",
       "      <td id=\"T_e5518_row2_col0\" class=\"data row2 col0\" >0.539615</td>\n",
       "      <td id=\"T_e5518_row2_col1\" class=\"data row2 col1\" >0.189237</td>\n",
       "      <td id=\"T_e5518_row2_col2\" class=\"data row2 col2\" >1.000000</td>\n",
       "      <td id=\"T_e5518_row2_col3\" class=\"data row2 col3\" >0.041403</td>\n",
       "    </tr>\n",
       "    <tr>\n",
       "      <th id=\"T_e5518_level0_row3\" class=\"row_heading level0 row3\" >Term</th>\n",
       "      <td id=\"T_e5518_row3_col0\" class=\"data row3 col0\" >-0.045306</td>\n",
       "      <td id=\"T_e5518_row3_col1\" class=\"data row3 col1\" >-0.059878</td>\n",
       "      <td id=\"T_e5518_row3_col2\" class=\"data row3 col2\" >0.041403</td>\n",
       "      <td id=\"T_e5518_row3_col3\" class=\"data row3 col3\" >1.000000</td>\n",
       "    </tr>\n",
       "  </tbody>\n",
       "</table>\n"
      ],
      "text/plain": [
       "<pandas.io.formats.style.Styler at 0x2a70048bac8>"
      ]
     },
     "execution_count": 13,
     "metadata": {},
     "output_type": "execute_result"
    }
   ],
   "source": [
    "# heatmap by pandas\n",
    "encode_num.corr().style.background_gradient(cmap='summer')"
   ]
  },
  {
   "cell_type": "markdown",
   "id": "2b92010a",
   "metadata": {},
   "source": [
    "- Applicant_Income과 Loan_Amount변수 간의 상관관계가 어느정도 있어보임 \n",
    "- 일단은그대로 진행"
   ]
  },
  {
   "cell_type": "markdown",
   "id": "ff0776c8",
   "metadata": {},
   "source": [
    "### 데이터 단위 변경하기\n",
    "- 돈단위를 변환하기 위해 각 income, loan을 1000, 10000으로 나눠줌"
   ]
  },
  {
   "cell_type": "code",
   "execution_count": 14,
   "id": "3230f4bc",
   "metadata": {},
   "outputs": [],
   "source": [
    "# 값을 1000단위로 바꿔주기\n",
    "encode_num[[\"Applicant_Income\", \"Coapplicant_Income\"]] /= 1000\n",
    "\n",
    "# 대출금을 10000단위로 바꾸기\n",
    "encode_num[\"Loan_Amount\"] /= 10000"
   ]
  },
  {
   "cell_type": "code",
   "execution_count": 15,
   "id": "1de4b0d3",
   "metadata": {},
   "outputs": [
    {
     "data": {
      "text/html": [
       "<div>\n",
       "<style scoped>\n",
       "    .dataframe tbody tr th:only-of-type {\n",
       "        vertical-align: middle;\n",
       "    }\n",
       "\n",
       "    .dataframe tbody tr th {\n",
       "        vertical-align: top;\n",
       "    }\n",
       "\n",
       "    .dataframe thead th {\n",
       "        text-align: right;\n",
       "    }\n",
       "</style>\n",
       "<table border=\"1\" class=\"dataframe\">\n",
       "  <thead>\n",
       "    <tr style=\"text-align: right;\">\n",
       "      <th></th>\n",
       "      <th>Applicant_Income</th>\n",
       "      <th>Coapplicant_Income</th>\n",
       "      <th>Loan_Amount</th>\n",
       "      <th>Term</th>\n",
       "    </tr>\n",
       "  </thead>\n",
       "  <tbody>\n",
       "    <tr>\n",
       "      <th>count</th>\n",
       "      <td>614.000000</td>\n",
       "      <td>614.000000</td>\n",
       "      <td>614.000000</td>\n",
       "      <td>600.00000</td>\n",
       "    </tr>\n",
       "    <tr>\n",
       "      <th>mean</th>\n",
       "      <td>540.345928</td>\n",
       "      <td>162.124580</td>\n",
       "      <td>1414.104235</td>\n",
       "      <td>342.00000</td>\n",
       "    </tr>\n",
       "    <tr>\n",
       "      <th>std</th>\n",
       "      <td>610.904167</td>\n",
       "      <td>292.624837</td>\n",
       "      <td>881.568246</td>\n",
       "      <td>65.12041</td>\n",
       "    </tr>\n",
       "    <tr>\n",
       "      <th>min</th>\n",
       "      <td>15.000000</td>\n",
       "      <td>0.000000</td>\n",
       "      <td>0.000000</td>\n",
       "      <td>12.00000</td>\n",
       "    </tr>\n",
       "    <tr>\n",
       "      <th>25%</th>\n",
       "      <td>287.750000</td>\n",
       "      <td>0.000000</td>\n",
       "      <td>980.000000</td>\n",
       "      <td>360.00000</td>\n",
       "    </tr>\n",
       "    <tr>\n",
       "      <th>50%</th>\n",
       "      <td>381.250000</td>\n",
       "      <td>118.850000</td>\n",
       "      <td>1250.000000</td>\n",
       "      <td>360.00000</td>\n",
       "    </tr>\n",
       "    <tr>\n",
       "      <th>75%</th>\n",
       "      <td>579.500000</td>\n",
       "      <td>229.725000</td>\n",
       "      <td>1647.500000</td>\n",
       "      <td>360.00000</td>\n",
       "    </tr>\n",
       "    <tr>\n",
       "      <th>max</th>\n",
       "      <td>8100.000000</td>\n",
       "      <td>4166.700000</td>\n",
       "      <td>7000.000000</td>\n",
       "      <td>480.00000</td>\n",
       "    </tr>\n",
       "  </tbody>\n",
       "</table>\n",
       "</div>"
      ],
      "text/plain": [
       "       Applicant_Income  Coapplicant_Income  Loan_Amount       Term\n",
       "count        614.000000          614.000000   614.000000  600.00000\n",
       "mean         540.345928          162.124580  1414.104235  342.00000\n",
       "std          610.904167          292.624837   881.568246   65.12041\n",
       "min           15.000000            0.000000     0.000000   12.00000\n",
       "25%          287.750000            0.000000   980.000000  360.00000\n",
       "50%          381.250000          118.850000  1250.000000  360.00000\n",
       "75%          579.500000          229.725000  1647.500000  360.00000\n",
       "max         8100.000000         4166.700000  7000.000000  480.00000"
      ]
     },
     "execution_count": 15,
     "metadata": {},
     "output_type": "execute_result"
    }
   ],
   "source": [
    "# 확인\n",
    "encode_num.describe()"
   ]
  },
  {
   "cell_type": "code",
   "execution_count": 16,
   "id": "b825087f",
   "metadata": {},
   "outputs": [
    {
     "data": {
      "text/plain": [
       "<AxesSubplot:>"
      ]
     },
     "execution_count": 16,
     "metadata": {},
     "output_type": "execute_result"
    },
    {
     "data": {
      "image/png": "[encoded data removed]",
      "text/plain": [
       "<Figure size 640x480 with 1 Axes>"
      ]
     },
     "metadata": {},
     "output_type": "display_data"
    }
   ],
   "source": [
    "encode_num.boxplot()"
   ]
  },
  {
   "cell_type": "markdown",
   "id": "9497b907",
   "metadata": {},
   "source": [
    "- 이상치는 그대로지만 어느정도 갖춰져있는 형태를 확인할 수 있다.\n",
    "- Term은 기간이기 때문에 그대로 적용시킬 반명 다른 변수는 이상치를 대치하는 것으로 적용할 예정"
   ]
  },
  {
   "cell_type": "markdown",
   "id": "813b0ebe",
   "metadata": {},
   "source": [
    "### 데이터 imputation"
   ]
  },
  {
   "cell_type": "markdown",
   "id": "21683876",
   "metadata": {},
   "source": [
    "- Box Plot에서 보였던 변수들의 이상치를 먼저 결측치로 만든다.\n",
    "- 결측치를 연속형 데이터는 평균, 범주형 데이터는 최빈값을 채운다."
   ]
  },
  {
   "cell_type": "code",
   "execution_count": 17,
   "id": "7be7664c",
   "metadata": {},
   "outputs": [],
   "source": [
    "# Q3, Q1을 통해 IQR을 계산\n",
    "Q1 = encode_num[[\"Applicant_Income\", \"Coapplicant_Income\", \"Loan_Amount\"]].quantile(q=0.25)\n",
    "Q3 = encode_num[[\"Applicant_Income\", \"Coapplicant_Income\", \"Loan_Amount\"]].quantile(q=0.75)\n",
    "IQR = Q3-Q1"
   ]
  },
  {
   "cell_type": "code",
   "execution_count": 18,
   "id": "830f82fa",
   "metadata": {},
   "outputs": [],
   "source": [
    "# 이상치를 결측치로 치환\n",
    "for col in [\"Applicant_Income\", \"Coapplicant_Income\", \"Loan_Amount\"]:\n",
    "    encode_num[col][(encode_num[col] > Q3[col]+1.5*IQR[col]) | (encode_num[col] < Q1[col]-1.5*IQR[col])] = np.nan"
   ]
  },
  {
   "cell_type": "code",
   "execution_count": 19,
   "id": "ba8809e9",
   "metadata": {
    "scrolled": false
   },
   "outputs": [
    {
     "data": {
      "text/plain": [
       "<AxesSubplot:>"
      ]
     },
     "execution_count": 19,
     "metadata": {},
     "output_type": "execute_result"
    },
    {
     "data": {
      "image/png": "[encoded data removed]",
      "text/plain": [
       "<Figure size 640x480 with 1 Axes>"
      ]
     },
     "metadata": {},
     "output_type": "display_data"
    }
   ],
   "source": [
    "# 반영되었는지 확인\n",
    "encode_num.boxplot()"
   ]
  },
  {
   "cell_type": "markdown",
   "id": "30a6ebc4",
   "metadata": {},
   "source": [
    "- 이상치를 결측치로 치환한것이 잘 반영된 것을 확인\n",
    "- MICE Reference : https://ichi.pro/ko/deiteo-seteueseo-gyeol-cheuggabs-eul-daechihaneun-mice-algolijeum-217004654686142"
   ]
  },
  {
   "cell_type": "markdown",
   "id": "47211416",
   "metadata": {},
   "source": [
    "### 결측값 대치\n",
    "\n",
    "#### 연속형"
   ]
  },
  {
   "cell_type": "code",
   "execution_count": 20,
   "id": "509ec458",
   "metadata": {},
   "outputs": [
    {
     "data": {
      "text/plain": [
       "IterativeImputer(random_state=42)"
      ]
     },
     "execution_count": 20,
     "metadata": {},
     "output_type": "execute_result"
    }
   ],
   "source": [
    "# MICE를 이용한 자동 대치\n",
    "imputer_mice = IterativeImputer(random_state=42)\n",
    "imputer_mice.fit(encode_num)"
   ]
  },
  {
   "cell_type": "code",
   "execution_count": 21,
   "id": "3b5166c2",
   "metadata": {},
   "outputs": [],
   "source": [
    "# 데이터 변환 (array로 반환하기 때문에 필요에 맞는 형태로 변환 후 사용)\n",
    "complete_num = pd.DataFrame(imputer_mice.transform(encode_num), columns=encode_num.columns)"
   ]
  },
  {
   "cell_type": "markdown",
   "id": "e05dd13d",
   "metadata": {},
   "source": [
    "#### 범주형"
   ]
  },
  {
   "cell_type": "code",
   "execution_count": 22,
   "id": "8730cc18",
   "metadata": {},
   "outputs": [
    {
     "data": {
      "text/plain": [
       "SimpleImputer(strategy='most_frequent')"
      ]
     },
     "execution_count": 22,
     "metadata": {},
     "output_type": "execute_result"
    }
   ],
   "source": [
    "# 최빈값으로 Imputer 선언\n",
    "imputer_mode = SimpleImputer(strategy='most_frequent')\n",
    "imputer_mode.fit(encode_cate)"
   ]
  },
  {
   "cell_type": "code",
   "execution_count": 23,
   "id": "b82ca954",
   "metadata": {},
   "outputs": [],
   "source": [
    "# 데이터 변환 (array로 반환하기 때문에 필요에 맞는 형태로 변환 후 사용)\n",
    "complete_cate = pd.DataFrame(imputer_mode.transform(encode_cate), columns=encode_cate.columns)"
   ]
  },
  {
   "cell_type": "markdown",
   "id": "ba4d6ae7",
   "metadata": {},
   "source": [
    "### 범주형 변수 - LabelEncoding\n",
    "- 결정트리 모델을 활용하기 때문에 이것으로 적용가능\n",
    "- 결정트리가 아닐 경우 one-hot encoding 권장\n",
    "- LabelEncoder는 한꺼번에 실행이 되지 않기 때문에 하나씩 사용"
   ]
  },
  {
   "cell_type": "code",
   "execution_count": 24,
   "id": "1db3dc56",
   "metadata": {},
   "outputs": [],
   "source": [
    "for col in complete_cate.columns:\n",
    "    le = LabelEncoder() # 인코더 불러오기\n",
    "    le.fit(complete_cate[col]) # 적합\n",
    "    complete_cate[col] = le.transform(complete_cate[col])"
   ]
  },
  {
   "cell_type": "markdown",
   "id": "ee659d97",
   "metadata": {},
   "source": [
    "### 연속형 변수 - Normalization Scaling"
   ]
  },
  {
   "cell_type": "code",
   "execution_count": 25,
   "id": "febffb12",
   "metadata": {},
   "outputs": [],
   "source": [
    "# StandardScaler객체 생성\n",
    "scaler = StandardScaler()"
   ]
  },
  {
   "cell_type": "code",
   "execution_count": 26,
   "id": "140f4c12",
   "metadata": {},
   "outputs": [],
   "source": [
    "# StandardScaler 로 데이터 셋 변환 .fit( ) 과 .transform( ) 호출\n",
    "scaler.fit(complete_num)\n",
    "trans_num = scaler.transform(complete_num)"
   ]
  },
  {
   "cell_type": "code",
   "execution_count": 27,
   "id": "2ebeb9cb",
   "metadata": {},
   "outputs": [],
   "source": [
    "# transform( )시 scale 변환된 데이터 셋이 numpy ndarry로 반환되어 이를 DataFrame으로 변환\n",
    "trans_num_scaled = pd.DataFrame(data=trans_num, columns=encode_num.columns)"
   ]
  },
  {
   "cell_type": "code",
   "execution_count": 28,
   "id": "052f7970",
   "metadata": {},
   "outputs": [
    {
     "name": "stdout",
     "output_type": "stream",
     "text": [
      "feature 들의 표준화 평균 값\n",
      "-3.1823982464825336e-17\n",
      "\n",
      "feature 들의 표준화 표준편차 값\n",
      "0.9999999999999999\n"
     ]
    }
   ],
   "source": [
    "# test set에도 똑같은 값으로 적용해야하기 때문에 그대로 사용\n",
    "print('feature 들의 표준화 평균 값')\n",
    "print(trans_num.mean())\n",
    "print('\\nfeature 들의 표준화 표준편차 값')\n",
    "print(trans_num.std())"
   ]
  },
  {
   "cell_type": "markdown",
   "id": "bb984934",
   "metadata": {},
   "source": [
    "### 데이터 결합"
   ]
  },
  {
   "cell_type": "code",
   "execution_count": 29,
   "id": "b0c41b81",
   "metadata": {},
   "outputs": [],
   "source": [
    "# 사용할 데이터 합치기\n",
    "use_data = pd.concat([complete_cate, trans_num_scaled], axis = 1)"
   ]
  },
  {
   "cell_type": "code",
   "execution_count": 30,
   "id": "3fc2f1ef",
   "metadata": {},
   "outputs": [
    {
     "data": {
      "text/html": [
       "<div>\n",
       "<style scoped>\n",
       "    .dataframe tbody tr th:only-of-type {\n",
       "        vertical-align: middle;\n",
       "    }\n",
       "\n",
       "    .dataframe tbody tr th {\n",
       "        vertical-align: top;\n",
       "    }\n",
       "\n",
       "    .dataframe thead th {\n",
       "        text-align: right;\n",
       "    }\n",
       "</style>\n",
       "<table border=\"1\" class=\"dataframe\">\n",
       "  <thead>\n",
       "    <tr style=\"text-align: right;\">\n",
       "      <th></th>\n",
       "      <th>Gender</th>\n",
       "      <th>Married</th>\n",
       "      <th>Dependents</th>\n",
       "      <th>Education</th>\n",
       "      <th>Self_Employed</th>\n",
       "      <th>Credit_History</th>\n",
       "      <th>Area</th>\n",
       "      <th>Applicant_Income</th>\n",
       "      <th>Coapplicant_Income</th>\n",
       "      <th>Loan_Amount</th>\n",
       "      <th>Term</th>\n",
       "    </tr>\n",
       "  </thead>\n",
       "  <tbody>\n",
       "    <tr>\n",
       "      <th>0</th>\n",
       "      <td>1</td>\n",
       "      <td>0</td>\n",
       "      <td>0</td>\n",
       "      <td>0</td>\n",
       "      <td>0</td>\n",
       "      <td>1</td>\n",
       "      <td>2</td>\n",
       "      <td>0.878075</td>\n",
       "      <td>-0.898503</td>\n",
       "      <td>0.474823</td>\n",
       "      <td>0.280848</td>\n",
       "    </tr>\n",
       "    <tr>\n",
       "      <th>1</th>\n",
       "      <td>1</td>\n",
       "      <td>1</td>\n",
       "      <td>1</td>\n",
       "      <td>0</td>\n",
       "      <td>0</td>\n",
       "      <td>1</td>\n",
       "      <td>0</td>\n",
       "      <td>0.211270</td>\n",
       "      <td>0.143611</td>\n",
       "      <td>0.051807</td>\n",
       "      <td>0.280848</td>\n",
       "    </tr>\n",
       "    <tr>\n",
       "      <th>2</th>\n",
       "      <td>1</td>\n",
       "      <td>1</td>\n",
       "      <td>0</td>\n",
       "      <td>0</td>\n",
       "      <td>1</td>\n",
       "      <td>1</td>\n",
       "      <td>2</td>\n",
       "      <td>-0.622499</td>\n",
       "      <td>-0.898503</td>\n",
       "      <td>-1.140328</td>\n",
       "      <td>0.280848</td>\n",
       "    </tr>\n",
       "    <tr>\n",
       "      <th>3</th>\n",
       "      <td>1</td>\n",
       "      <td>1</td>\n",
       "      <td>0</td>\n",
       "      <td>1</td>\n",
       "      <td>0</td>\n",
       "      <td>1</td>\n",
       "      <td>2</td>\n",
       "      <td>-0.842134</td>\n",
       "      <td>0.731010</td>\n",
       "      <td>-0.102017</td>\n",
       "      <td>0.280848</td>\n",
       "    </tr>\n",
       "    <tr>\n",
       "      <th>4</th>\n",
       "      <td>1</td>\n",
       "      <td>0</td>\n",
       "      <td>0</td>\n",
       "      <td>0</td>\n",
       "      <td>0</td>\n",
       "      <td>1</td>\n",
       "      <td>2</td>\n",
       "      <td>0.957607</td>\n",
       "      <td>-0.898503</td>\n",
       "      <td>0.301771</td>\n",
       "      <td>0.280848</td>\n",
       "    </tr>\n",
       "  </tbody>\n",
       "</table>\n",
       "</div>"
      ],
      "text/plain": [
       "   Gender  Married  Dependents  Education  Self_Employed  Credit_History  \\\n",
       "0       1        0           0          0              0               1   \n",
       "1       1        1           1          0              0               1   \n",
       "2       1        1           0          0              1               1   \n",
       "3       1        1           0          1              0               1   \n",
       "4       1        0           0          0              0               1   \n",
       "\n",
       "   Area  Applicant_Income  Coapplicant_Income  Loan_Amount      Term  \n",
       "0     2          0.878075           -0.898503     0.474823  0.280848  \n",
       "1     0          0.211270            0.143611     0.051807  0.280848  \n",
       "2     2         -0.622499           -0.898503    -1.140328  0.280848  \n",
       "3     2         -0.842134            0.731010    -0.102017  0.280848  \n",
       "4     2          0.957607           -0.898503     0.301771  0.280848  "
      ]
     },
     "execution_count": 30,
     "metadata": {},
     "output_type": "execute_result"
    }
   ],
   "source": [
    "# 완성된 데이터 확인\n",
    "use_data.head(5)"
   ]
  },
  {
   "cell_type": "markdown",
   "id": "51a35e87",
   "metadata": {},
   "source": [
    "## 3. 데이터 불균형 확인과 데이터 분리\n",
    "\n",
    "### y 데이터 불균형 확인"
   ]
  },
  {
   "cell_type": "code",
   "execution_count": 31,
   "id": "cc7dc616",
   "metadata": {},
   "outputs": [
    {
     "data": {
      "text/plain": [
       "422"
      ]
     },
     "execution_count": 31,
     "metadata": {},
     "output_type": "execute_result"
    }
   ],
   "source": [
    "len(data_y[data_y == 'Y'])"
   ]
  },
  {
   "cell_type": "code",
   "execution_count": 32,
   "id": "5ba89c37",
   "metadata": {},
   "outputs": [
    {
     "data": {
      "text/plain": [
       "192"
      ]
     },
     "execution_count": 32,
     "metadata": {},
     "output_type": "execute_result"
    }
   ],
   "source": [
    "len(data_y[data_y == 'N'])"
   ]
  },
  {
   "cell_type": "markdown",
   "id": "f8307e5b",
   "metadata": {},
   "source": [
    "- 422:192개로 데이터의 불균형이 보임 : 이를 SMOTE를 활용해 데이터 개수 맞춰주기\n",
    "\n",
    "### SMOTE"
   ]
  },
  {
   "cell_type": "code",
   "execution_count": 33,
   "id": "8edc046a",
   "metadata": {},
   "outputs": [],
   "source": [
    "# smote 불러오기\n",
    "smote = SMOTE(random_state=42)"
   ]
  },
  {
   "cell_type": "code",
   "execution_count": 34,
   "id": "2f713dd2",
   "metadata": {},
   "outputs": [],
   "source": [
    "# 사용할 데이터 smote한 결과 불러오기\n",
    "use_data_smote, y_smote = smote.fit_resample(use_data, data_y)"
   ]
  },
  {
   "cell_type": "markdown",
   "id": "fdad8dee",
   "metadata": {},
   "source": [
    "- 선정한 모델이 트리모형이기 때문에 0, 1로 변경\n",
    "- 만일 SVM과 같은 모델이었다면 -1, 1로 바꿨을 예정\n",
    "\n",
    "### Y변수 0, 1로 바꾸기"
   ]
  },
  {
   "cell_type": "code",
   "execution_count": 35,
   "id": "2e2ed7ae",
   "metadata": {},
   "outputs": [],
   "source": [
    "le = LabelEncoder() # 인코더 불러오기\n",
    "le.fit(y_smote) # 적합\n",
    "y_smote = le.transform(y_smote)"
   ]
  },
  {
   "cell_type": "markdown",
   "id": "79398716",
   "metadata": {},
   "source": [
    "### Train/ Valid 데이터로 나누기"
   ]
  },
  {
   "cell_type": "code",
   "execution_count": 36,
   "id": "3abbdcf0",
   "metadata": {},
   "outputs": [],
   "source": [
    "# 데이터 분류\n",
    "train_x, valid_x, train_y, valid_y = train_test_split(use_data_smote, \n",
    "                                                      y_smote,\n",
    "                                                      test_size=0.2,\n",
    "                                                      random_state=42)"
   ]
  },
  {
   "cell_type": "markdown",
   "id": "926e8262",
   "metadata": {},
   "source": [
    "## 4. 모델\n",
    "\n",
    "### 모델 적합"
   ]
  },
  {
   "cell_type": "code",
   "execution_count": 37,
   "id": "d9ff56ae",
   "metadata": {},
   "outputs": [],
   "source": [
    "# 모델 불러오기\n",
    "rf = RandomForestClassifier(random_state = 42)\n",
    "xgb = XGBClassifier(random_state = 42)\n",
    "lgb = LGBMClassifier(random_state = 42)"
   ]
  },
  {
   "cell_type": "code",
   "execution_count": 38,
   "id": "dae4995e",
   "metadata": {},
   "outputs": [
    {
     "data": {
      "text/plain": [
       "LGBMClassifier(random_state=42)"
      ]
     },
     "execution_count": 38,
     "metadata": {},
     "output_type": "execute_result"
    }
   ],
   "source": [
    "# 각 모델 학습\n",
    "rf.fit(train_x, train_y)\n",
    "xgb.fit(train_x, train_y)\n",
    "lgb.fit(train_x, train_y)"
   ]
  },
  {
   "cell_type": "code",
   "execution_count": 39,
   "id": "ca412f80",
   "metadata": {},
   "outputs": [],
   "source": [
    "# valid 대입\n",
    "rf_predict = rf.predict(valid_x)\n",
    "xgb_predict = xgb.predict(valid_x)\n",
    "lgb_predict = lgb.predict(valid_x)"
   ]
  },
  {
   "cell_type": "markdown",
   "id": "6733e46a",
   "metadata": {},
   "source": [
    "## 5. 결과 확인 및 평가지표 산출\n",
    "\n",
    "### Confusion Matrix\n",
    "\n",
    "- sklearn.metrics.confusion_matrix(y_true, y_pred, *, labels=None, sample_weight=None, normalize=None)\n",
    "- y_true, y_pred 순으로 대입해야함"
   ]
  },
  {
   "cell_type": "code",
   "execution_count": 40,
   "id": "1a7d3709",
   "metadata": {},
   "outputs": [
    {
     "data": {
      "text/plain": [
       "array([[71, 23],\n",
       "       [10, 65]], dtype=int64)"
      ]
     },
     "execution_count": 40,
     "metadata": {},
     "output_type": "execute_result"
    }
   ],
   "source": [
    "# RF CM\n",
    "confusion_matrix(valid_y, rf_predict)"
   ]
  },
  {
   "cell_type": "code",
   "execution_count": 41,
   "id": "ffbaca2e",
   "metadata": {},
   "outputs": [
    {
     "data": {
      "text/plain": [
       "array([[72, 22],\n",
       "       [11, 64]], dtype=int64)"
      ]
     },
     "execution_count": 41,
     "metadata": {},
     "output_type": "execute_result"
    }
   ],
   "source": [
    "# XGB CM\n",
    "confusion_matrix(valid_y, xgb_predict)"
   ]
  },
  {
   "cell_type": "code",
   "execution_count": 42,
   "id": "74dc039c",
   "metadata": {},
   "outputs": [
    {
     "data": {
      "text/plain": [
       "array([[70, 24],\n",
       "       [11, 64]], dtype=int64)"
      ]
     },
     "execution_count": 42,
     "metadata": {},
     "output_type": "execute_result"
    }
   ],
   "source": [
    "# LGBM CM\n",
    "confusion_matrix(valid_y, lgb_predict)"
   ]
  },
  {
   "cell_type": "markdown",
   "id": "197371a4",
   "metadata": {},
   "source": [
    "### Scoring"
   ]
  },
  {
   "cell_type": "code",
   "execution_count": 43,
   "id": "372cd32b",
   "metadata": {},
   "outputs": [
    {
     "name": "stdout",
     "output_type": "stream",
     "text": [
      "              precision    recall  f1-score   support\n",
      "\n",
      "           N       0.88      0.76      0.81        94\n",
      "           Y       0.74      0.87      0.80        75\n",
      "\n",
      "    accuracy                           0.80       169\n",
      "   macro avg       0.81      0.81      0.80       169\n",
      "weighted avg       0.82      0.80      0.81       169\n",
      "\n"
     ]
    }
   ],
   "source": [
    "# Rf score\n",
    "print(classification_report(valid_y, rf_predict, target_names=['N', 'Y']))"
   ]
  },
  {
   "cell_type": "code",
   "execution_count": 44,
   "id": "6945d292",
   "metadata": {},
   "outputs": [
    {
     "name": "stdout",
     "output_type": "stream",
     "text": [
      "              precision    recall  f1-score   support\n",
      "\n",
      "           N       0.87      0.77      0.81        94\n",
      "           Y       0.74      0.85      0.80        75\n",
      "\n",
      "    accuracy                           0.80       169\n",
      "   macro avg       0.81      0.81      0.80       169\n",
      "weighted avg       0.81      0.80      0.81       169\n",
      "\n"
     ]
    }
   ],
   "source": [
    "# XGB score\n",
    "print(classification_report(valid_y, xgb_predict, target_names=['N', 'Y']))"
   ]
  },
  {
   "cell_type": "code",
   "execution_count": 45,
   "id": "68bb4032",
   "metadata": {},
   "outputs": [
    {
     "name": "stdout",
     "output_type": "stream",
     "text": [
      "              precision    recall  f1-score   support\n",
      "\n",
      "           N       0.86      0.74      0.80        94\n",
      "           Y       0.73      0.85      0.79        75\n",
      "\n",
      "    accuracy                           0.79       169\n",
      "   macro avg       0.80      0.80      0.79       169\n",
      "weighted avg       0.80      0.79      0.79       169\n",
      "\n"
     ]
    }
   ],
   "source": [
    "# LGBM score\n",
    "print(classification_report(valid_y, lgb_predict, target_names=['N', 'Y']))"
   ]
  },
  {
   "cell_type": "markdown",
   "id": "2d289161",
   "metadata": {},
   "source": [
    "### AUC"
   ]
  },
  {
   "cell_type": "code",
   "execution_count": 46,
   "id": "6dd28bfa",
   "metadata": {},
   "outputs": [
    {
     "data": {
      "text/plain": [
       "0.8109929078014184"
      ]
     },
     "execution_count": 46,
     "metadata": {},
     "output_type": "execute_result"
    }
   ],
   "source": [
    "roc_auc_score(valid_y, rf_predict)"
   ]
  },
  {
   "cell_type": "code",
   "execution_count": 47,
   "id": "4d2a4b09",
   "metadata": {},
   "outputs": [
    {
     "data": {
      "text/plain": [
       "0.8096453900709221"
      ]
     },
     "execution_count": 47,
     "metadata": {},
     "output_type": "execute_result"
    }
   ],
   "source": [
    "roc_auc_score(valid_y, xgb_predict)"
   ]
  },
  {
   "cell_type": "code",
   "execution_count": 48,
   "id": "0e4c35c1",
   "metadata": {},
   "outputs": [
    {
     "data": {
      "text/plain": [
       "0.7990070921985817"
      ]
     },
     "execution_count": 48,
     "metadata": {},
     "output_type": "execute_result"
    }
   ],
   "source": [
    "roc_auc_score(valid_y, lgb_predict)"
   ]
  },
  {
   "cell_type": "markdown",
   "id": "abf77a4f",
   "metadata": {},
   "source": [
    "- 평가지표를 전부 비교했을 때 XGB가 성능이 가장 좋은것을 확인할 수 있었다.\n",
    "- 따라서 XGB를 활용해 예측값을 구하고 Submission을 만든다."
   ]
  },
  {
   "cell_type": "markdown",
   "id": "8d2212c0",
   "metadata": {},
   "source": [
    "## 6. test set 예측값 구하기\n",
    "\n",
    "### test 데이터 연속형 및 범주형 분리"
   ]
  },
  {
   "cell_type": "code",
   "execution_count": 49,
   "id": "74cf2d46",
   "metadata": {},
   "outputs": [],
   "source": [
    "# 변수의 속성에 따라 분리하기\n",
    "test_cate = pd.DataFrame() # 범주변수 저장\n",
    "test_num = pd.DataFrame() # 연속 변수 저장\n",
    "for attribute, col in zip(test.dtypes, test.columns): # 변수 타입과 열 이름\n",
    "    if attribute == 'object' and col != 'Status': # Y변수는 별도로 시킬것이므로 제외\n",
    "        test_cate[col] = test[col] # 범주형 변수\n",
    "    elif col != 'Status':\n",
    "        test_num[col] = test[col] # 연속 변수"
   ]
  },
  {
   "cell_type": "markdown",
   "id": "184dcf96",
   "metadata": {},
   "source": [
    "### test 데이터 단위 변경"
   ]
  },
  {
   "cell_type": "code",
   "execution_count": 50,
   "id": "29d5f19a",
   "metadata": {},
   "outputs": [],
   "source": [
    "# 값을 1000단위로 바꿔주기\n",
    "test_num[[\"Applicant_Income\", \"Coapplicant_Income\"]] /= 1000\n",
    "\n",
    "# 대출금을 10000단위로 바꾸기\n",
    "test_num[\"Loan_Amount\"] /= 10000"
   ]
  },
  {
   "cell_type": "markdown",
   "id": "b09d88ff",
   "metadata": {},
   "source": [
    "### 이상치를 결측치로"
   ]
  },
  {
   "cell_type": "code",
   "execution_count": 51,
   "id": "a3c4573a",
   "metadata": {},
   "outputs": [],
   "source": [
    "# 이상치를 결측치로 치환\n",
    "for col in [\"Applicant_Income\", \"Coapplicant_Income\", \"Loan_Amount\"]:\n",
    "    test_num[col][(test_num[col] > Q3[col]+1.5*IQR[col]) | (test_num[col] < Q1[col]-1.5*IQR[col])] = np.nan"
   ]
  },
  {
   "cell_type": "markdown",
   "id": "6ba389da",
   "metadata": {},
   "source": [
    "### 결측치 대치"
   ]
  },
  {
   "cell_type": "code",
   "execution_count": 52,
   "id": "a524feb6",
   "metadata": {},
   "outputs": [],
   "source": [
    "# 연속형\n",
    "complete_test_num = pd.DataFrame(imputer_mice.transform(test_num), columns=test_num.columns)"
   ]
  },
  {
   "cell_type": "code",
   "execution_count": 53,
   "id": "270ba973",
   "metadata": {},
   "outputs": [],
   "source": [
    "# 범주형\n",
    "complete_test_cate = pd.DataFrame(imputer_mode.transform(test_cate), columns=test_cate.columns)"
   ]
  },
  {
   "cell_type": "markdown",
   "id": "d32c257f",
   "metadata": {},
   "source": [
    "### 변수 변환\n",
    "\n",
    "#### 범주형"
   ]
  },
  {
   "cell_type": "code",
   "execution_count": 54,
   "id": "e481cd7e",
   "metadata": {},
   "outputs": [],
   "source": [
    "# 범주형 변환\n",
    "for col in complete_cate.columns:\n",
    "    le = LabelEncoder() # 인코더 불러오기\n",
    "    le.fit(complete_test_cate[col]) # 적합\n",
    "    complete_test_cate[col] = le.transform(complete_test_cate[col])"
   ]
  },
  {
   "cell_type": "markdown",
   "id": "d69e149c",
   "metadata": {},
   "source": [
    "#### 연속형"
   ]
  },
  {
   "cell_type": "code",
   "execution_count": 55,
   "id": "0ee0d51b",
   "metadata": {},
   "outputs": [],
   "source": [
    "# 연속형 변환\n",
    "trans_test_num = scaler.transform(complete_test_num)\n",
    "trans_test_num_scaled = pd.DataFrame(data=trans_test_num, columns=test_num.columns)"
   ]
  },
  {
   "cell_type": "markdown",
   "id": "df676ad8",
   "metadata": {},
   "source": [
    "### 데이터 융합"
   ]
  },
  {
   "cell_type": "code",
   "execution_count": 56,
   "id": "e5ba0ec9",
   "metadata": {},
   "outputs": [],
   "source": [
    "# pd.concat\n",
    "use_test = pd.concat([complete_test_cate, trans_test_num_scaled], axis = 1)"
   ]
  },
  {
   "cell_type": "markdown",
   "id": "71a3df2c",
   "metadata": {},
   "source": [
    "### 데이터 예측"
   ]
  },
  {
   "cell_type": "code",
   "execution_count": 57,
   "id": "ff047e96",
   "metadata": {},
   "outputs": [],
   "source": [
    "test_predict = xgb.predict(use_test)\n",
    "t = test_predict.astype(object)"
   ]
  },
  {
   "cell_type": "markdown",
   "id": "8eb9c1f0",
   "metadata": {},
   "source": [
    "### 예측값 저장"
   ]
  },
  {
   "cell_type": "code",
   "execution_count": 58,
   "id": "86b74559",
   "metadata": {},
   "outputs": [
    {
     "data": {
      "text/plain": [
       "array([1, 1, 1, 1, 1, 1, 1, 0, 1, 1, 1, 1, 1, 0, 1, 1, 1, 0, 1, 0, 1, 1,\n",
       "       0, 1, 1, 0, 1, 1, 1, 1, 1, 1, 1, 1, 1, 0, 1, 1, 1, 1, 1, 1, 1, 0,\n",
       "       1, 1, 1, 1, 1, 1, 1, 1, 1, 1, 1, 0, 0, 1, 0, 1, 1, 1, 1, 0, 1, 1,\n",
       "       0, 0, 1, 0, 1, 0, 0, 1, 1, 1, 1, 1, 1, 1, 0, 1, 0, 0, 0, 1, 1, 1,\n",
       "       1, 1, 1, 1, 1, 1, 0, 1, 1, 1, 0, 1, 0, 0, 1, 0, 1, 1, 0, 1, 1, 1,\n",
       "       1, 1, 1, 1, 1, 1, 0, 0, 0, 0, 0, 1, 1, 0, 0, 1, 0, 1, 1, 1, 1, 0,\n",
       "       1, 1, 0, 1, 1, 0, 1, 1, 0, 1, 0, 1, 1, 1, 1, 0, 1, 1, 1, 1, 1, 0,\n",
       "       1, 1, 1, 0, 0, 0, 1, 0, 1, 0, 1, 0, 0, 1, 0, 0, 0, 1, 1, 0, 0, 1,\n",
       "       1, 0, 1, 1, 1, 0, 1, 1, 1, 1, 1, 1, 0, 1, 0, 0, 0, 0, 1, 1, 0, 1,\n",
       "       0, 1, 1, 1, 1, 1, 1, 1, 1, 1, 0, 1, 1, 0, 1, 1, 1, 1, 1, 1, 1, 0,\n",
       "       1, 0, 1, 1, 0, 1, 1, 1, 1, 0, 1, 1, 1, 1, 1, 0, 0, 1, 1, 0, 1, 0,\n",
       "       1, 0, 1, 0, 1, 1, 1, 0, 0, 1, 0, 1, 1, 0, 1, 1, 1, 0, 0, 1, 0, 1,\n",
       "       1, 1, 0, 1, 0, 0, 1, 1, 1, 0, 0, 1, 1, 1, 0, 0, 1, 1, 1, 0, 1, 1,\n",
       "       1, 1, 1, 1, 1, 1, 0, 0, 1, 1, 1, 1, 1, 0, 1, 0, 0, 1, 1, 0, 1, 1,\n",
       "       1, 1, 1, 0, 1, 1, 1, 0, 0, 0, 0, 1, 0, 0, 1, 0, 1, 0, 1, 1, 1, 1,\n",
       "       1, 1, 1, 1, 1, 0, 1, 1, 1, 0, 1, 0, 0, 0, 1, 1, 0, 1, 1, 1, 1, 1,\n",
       "       1, 1, 0, 1, 1, 1, 1, 1, 1, 1, 1, 1, 1, 0, 1], dtype=object)"
      ]
     },
     "execution_count": 58,
     "metadata": {},
     "output_type": "execute_result"
    }
   ],
   "source": [
    "t"
   ]
  },
  {
   "cell_type": "code",
   "execution_count": 59,
   "id": "7eb17c20",
   "metadata": {},
   "outputs": [],
   "source": [
    "# 기존의 N, Y값으로 다시 변환\n",
    "t[t == '1'] = 'Y'\n",
    "t[t == \"0\"] = 'N'"
   ]
  },
  {
   "cell_type": "code",
   "execution_count": 60,
   "id": "c9150cfe",
   "metadata": {},
   "outputs": [],
   "source": [
    "# 인덱스가 존재하지 않기 때문에 그냥 만들어서 대입해준다.\n",
    "# t.to_csv('submission.csv', index=True)"
   ]
  }
 ],
 "metadata": {
  "kernelspec": {
   "display_name": "please",
   "language": "python",
   "name": "please"
  },
  "language_info": {
   "codemirror_mode": {
    "name": "ipython",
    "version": 3
   },
   "file_extension": ".py",
   "mimetype": "text/x-python",
   "name": "python",
   "nbconvert_exporter": "python",
   "pygments_lexer": "ipython3",
   "version": "3.7.13"
  }
 },
 "nbformat": 4,
 "nbformat_minor": 5
}
