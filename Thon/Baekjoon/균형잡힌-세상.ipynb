{
 "cells": [
  {
   "cell_type": "code",
   "execution_count": 3,
   "metadata": {},
   "outputs": [],
   "source": [
    "sen = input()"
   ]
  },
  {
   "cell_type": "code",
   "execution_count": 4,
   "metadata": {},
   "outputs": [
    {
     "data": {
      "text/plain": [
       "'So when I die (the [first] I will see in (heaven) is a score list).'"
      ]
     },
     "execution_count": 4,
     "metadata": {},
     "output_type": "execute_result"
    }
   ],
   "source": [
    "sen"
   ]
  },
  {
   "cell_type": "code",
   "execution_count": 5,
   "metadata": {},
   "outputs": [
    {
     "name": "stdout",
     "output_type": "stream",
     "text": [
      "['(', '[', ']', '(', ')', ')']\n"
     ]
    }
   ],
   "source": [
    "word = []\n",
    "for i in sen:\n",
    "    if i in ('(' ,')', '[', ']'):\n",
    "        word.append(i)\n",
    "print(word)"
   ]
  },
  {
   "cell_type": "code",
   "execution_count": 7,
   "metadata": {},
   "outputs": [
    {
     "data": {
      "text/plain": [
       "['(', '[', ']', '(', ')', ')']"
      ]
     },
     "execution_count": 7,
     "metadata": {},
     "output_type": "execute_result"
    }
   ],
   "source": [
    "word = [i for i in input() if i in ('(' , ')', '[', ']')]\n",
    "word"
   ]
  },
  {
   "cell_type": "code",
   "execution_count": 8,
   "metadata": {},
   "outputs": [],
   "source": [
    "def is_parent(word):\n",
    "\n",
    "    pdict = {')': '(', ']': '['}\n",
    "    stack = []\n",
    "\n",
    "    for char in word:\n",
    "        if char not in pdict:\n",
    "            stack.append(char)\n",
    "\n",
    "        elif not stack or pdict[char] != stack.pop():\n",
    "            return False\n",
    "    \n",
    "    return len(stack) == 0"
   ]
  },
  {
   "cell_type": "code",
   "execution_count": 69,
   "metadata": {},
   "outputs": [
    {
     "name": "stdout",
     "output_type": "stream",
     "text": [
      "yes\n"
     ]
    }
   ],
   "source": [
    "def is_parent(word):\n",
    "\n",
    "    pdict = {')': '(', ']': '['}\n",
    "    stack = []\n",
    "\n",
    "    for char in word:\n",
    "        if char not in pdict:\n",
    "            stack.append(char)\n",
    "\n",
    "        elif not stack or pdict[char] != stack.pop():\n",
    "            return 'no'\n",
    "    \n",
    "    if len(stack) == 0:\n",
    "        return 'yes'\n",
    "    \n",
    "    return 'no'\n",
    "\n",
    "print(is_parent(word))"
   ]
  },
  {
   "cell_type": "code",
   "execution_count": 74,
   "metadata": {},
   "outputs": [
    {
     "name": "stdout",
     "output_type": "stream",
     "text": [
      "no\n"
     ]
    }
   ],
   "source": [
    "def is_parent(word):\n",
    "\n",
    "    pdict = {')': '(', ']': '['}\n",
    "    stack = []\n",
    "\n",
    "    for char in word:\n",
    "        if char not in pdict:\n",
    "            stack.append(char)\n",
    "\n",
    "        elif not stack or pdict[char] != stack.pop():\n",
    "            return 'no'\n",
    "    \n",
    "    if len(stack) == 0:\n",
    "        return 'yes'\n",
    "    \n",
    "    return 'no'\n",
    "\n",
    "words = input()\n",
    "\n",
    "one = []\n",
    "for s in words[:-1]:\n",
    "    if s == '.':\n",
    "        print(is_parent(one))\n",
    "        one = []\n",
    "    elif s in ('(', ')', '[',']'):\n",
    "        one.append(s)\n"
   ]
  },
  {
   "cell_type": "code",
   "execution_count": 9,
   "metadata": {},
   "outputs": [
    {
     "data": {
      "text/plain": [
       "True"
      ]
     },
     "execution_count": 9,
     "metadata": {},
     "output_type": "execute_result"
    }
   ],
   "source": [
    "is_parent(word)"
   ]
  }
 ],
 "metadata": {
  "kernelspec": {
   "display_name": "thon",
   "language": "python",
   "name": "python3"
  },
  "language_info": {
   "codemirror_mode": {
    "name": "ipython",
    "version": 3
   },
   "file_extension": ".py",
   "mimetype": "text/x-python",
   "name": "python",
   "nbconvert_exporter": "python",
   "pygments_lexer": "ipython3",
   "version": "3.8.5"
  },
  "orig_nbformat": 4
 },
 "nbformat": 4,
 "nbformat_minor": 2
}
