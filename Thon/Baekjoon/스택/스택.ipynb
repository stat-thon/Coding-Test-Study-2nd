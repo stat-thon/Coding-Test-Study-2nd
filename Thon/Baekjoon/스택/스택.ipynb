{
 "cells": [
  {
   "cell_type": "code",
   "execution_count": null,
   "metadata": {},
   "outputs": [],
   "source": [
    "from collections import deque\n",
    "dq = deque(input())\n",
    "stack, result = deque(), deque()\n",
    "\n",
    "while dq:\n",
    "    q = dq.popleft()\n",
    "    \n",
    "    if q == '<':\n",
    "        result += stack\n",
    "        stack = []\n",
    "        stack.append(q)\n",
    "        \n",
    "        while True:\n",
    "            nq = dq.popleft()\n",
    "            stack.append(nq)\n",
    "            if nq == '>':\n",
    "                result += stack\n",
    "                stack = []\n",
    "                break\n",
    "                \n",
    "    elif q == ' ':\n",
    "        result += stack\n",
    "        result.append(' ')\n",
    "        stack = []\n",
    "        \n",
    "    else:\n",
    "        stack.appendleft(q)\n",
    "        \n",
    "result += stack\n",
    "print(''.join(result))"
   ]
  }
 ],
 "metadata": {
  "language_info": {
   "name": "python"
  },
  "orig_nbformat": 4
 },
 "nbformat": 4,
 "nbformat_minor": 2
}
