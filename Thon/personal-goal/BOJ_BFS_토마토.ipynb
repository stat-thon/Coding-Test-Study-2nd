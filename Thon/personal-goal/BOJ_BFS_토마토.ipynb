{
 "cells": [
  {
   "cell_type": "code",
   "execution_count": 30,
   "metadata": {},
   "outputs": [
    {
     "name": "stdout",
     "output_type": "stream",
     "text": [
      "1\n"
     ]
    }
   ],
   "source": [
    "m, n = map(int, input().split())\n",
    "\n",
    "box = []\n",
    "for _ in range(n):\n",
    "    box.append(list(map(int, input().split())))\n",
    "\n",
    "# bfs\n",
    "from collections import deque\n",
    "dq = deque()\n",
    "\n",
    "# append multiple starting points\n",
    "for i in range(n):\n",
    "    for j in range(m):\n",
    "        if box[i][j] == 1:\n",
    "            dq.append((i, j, 0))\n",
    "            \n",
    "dx = [-1, 1, 0, 0]\n",
    "dy = [0, 0, -1, 1]\n",
    "\n",
    "def bfs(dq):\n",
    "    \n",
    "    while dq:\n",
    "        x, y, day = dq.popleft()\n",
    "        \n",
    "        for d in range(4):\n",
    "            nx = x + dx[d]\n",
    "            ny = y + dy[d]\n",
    "            \n",
    "            if 0 <= nx < n and 0 <= ny < m and box[nx][ny] == 0:\n",
    "                box[nx][ny] = 1\n",
    "                dq.append((nx, ny, day + 1))\n",
    "                \n",
    "    for i in range(n):\n",
    "        for j in range(m):\n",
    "            if box[i][j] == 0:\n",
    "                return -1\n",
    "\n",
    "    return day\n",
    "\n",
    "print(bfs(dq))"
   ]
  }
 ],
 "metadata": {
  "kernelspec": {
   "display_name": "base",
   "language": "python",
   "name": "python3"
  },
  "language_info": {
   "codemirror_mode": {
    "name": "ipython",
    "version": 3
   },
   "file_extension": ".py",
   "mimetype": "text/x-python",
   "name": "python",
   "nbconvert_exporter": "python",
   "pygments_lexer": "ipython3",
   "version": "3.9.7"
  },
  "orig_nbformat": 4,
  "vscode": {
   "interpreter": {
    "hash": "89ac6dd2201b5666063839014919a6a8e5ab411e0482cec326965e3203c35655"
   }
  }
 },
 "nbformat": 4,
 "nbformat_minor": 2
}
