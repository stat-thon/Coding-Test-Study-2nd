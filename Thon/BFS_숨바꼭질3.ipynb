{
 "cells": [
  {
   "attachments": {},
   "cell_type": "markdown",
   "metadata": {},
   "source": [
    "# BFS - 숨바꼭질3"
   ]
  },
  {
   "cell_type": "code",
   "execution_count": null,
   "metadata": {},
   "outputs": [],
   "source": [
    "# 시간초과 나오는 내 풀이\n",
    "start, end = map(int, input().split())\n",
    "\n",
    "from collections import deque\n",
    "import sys\n",
    "\n",
    "visit = []\n",
    "dq = deque()\n",
    "n = 0\n",
    "\n",
    "while start * 2 ** (n - 1) < end:\n",
    "    dq.append((start * 2 ** n, 0))\n",
    "    visit.append(start * 2 ** n)\n",
    "    if start * 2 ** n == end:\n",
    "        print(0)\n",
    "        sys.exit()\n",
    "    n += 1\n",
    "\n",
    "dx = [-1, 1]\n",
    "\n",
    "while dq:\n",
    "    qx, dist = dq.popleft()\n",
    "    \n",
    "    if qx == end:\n",
    "        break\n",
    "    \n",
    "    elif qx > end:\n",
    "        nx = qx - 1\n",
    "\n",
    "        if nx == end:\n",
    "            print(dist + 1)\n",
    "            sys.exit()\n",
    "\n",
    "        if nx not in visit:\n",
    "            dq.append((nx, dist + 1))\n",
    "            visit.append(nx)\n",
    "\n",
    "    else:\n",
    "        for d in range(2):\n",
    "            nx = qx + dx[d]\n",
    "\n",
    "            if nx == end:\n",
    "                print(dist + 1)\n",
    "                sys.exit()\n",
    "\n",
    "            if nx > 0:\n",
    "                n = 0\n",
    "                while nx * 2 ** (n - 1) < end:\n",
    "\n",
    "                    if nx * 2 ** n not in visit:\n",
    "                        if nx * 2 ** n == end:\n",
    "                            print(dist + 1)\n",
    "                            sys.exit()\n",
    "                        dq.append((nx * 2 ** n, dist + 1))\n",
    "                        visit.append(nx * 2 ** n)\n",
    "                    n += 1\n",
    "                    \n",
    "\n",
    "print(dist)"
   ]
  },
  {
   "cell_type": "code",
   "execution_count": 103,
   "metadata": {},
   "outputs": [
    {
     "name": "stdout",
     "output_type": "stream",
     "text": [
      "1\n"
     ]
    }
   ],
   "source": [
    "# 깔끔한 정답 풀이\n",
    "import sys\n",
    "from collections import deque\n",
    "\n",
    "start, end = map(int, input().split())\n",
    "dist = [0] * 100001\n",
    "\n",
    "dq = deque()\n",
    "dq.append(start)\n",
    "dist[start] = 1 # time 기록 + visit 기능 한번에\n",
    "\n",
    "while dq:\n",
    "    qx = dq.popleft()\n",
    "\n",
    "    if qx == end:\n",
    "        print(dist[end] - 1)\n",
    "        break\n",
    "\n",
    "    for nx in (2 * qx, qx - 1, qx + 1):\n",
    "        if 0 <= nx < 100001 and dist[nx] == 0:\n",
    "            if nx == 2 * qx:\n",
    "                dist[nx] = dist[qx]\n",
    "                dq.appendleft(nx)\n",
    "            else:\n",
    "                dist[nx] = dist[qx] + 1\n",
    "                dq.append(nx)"
   ]
  }
 ],
 "metadata": {
  "kernelspec": {
   "display_name": "base",
   "language": "python",
   "name": "python3"
  },
  "language_info": {
   "codemirror_mode": {
    "name": "ipython",
    "version": 3
   },
   "file_extension": ".py",
   "mimetype": "text/x-python",
   "name": "python",
   "nbconvert_exporter": "python",
   "pygments_lexer": "ipython3",
   "version": "3.9.7"
  },
  "orig_nbformat": 4,
  "vscode": {
   "interpreter": {
    "hash": "89ac6dd2201b5666063839014919a6a8e5ab411e0482cec326965e3203c35655"
   }
  }
 },
 "nbformat": 4,
 "nbformat_minor": 2
}
